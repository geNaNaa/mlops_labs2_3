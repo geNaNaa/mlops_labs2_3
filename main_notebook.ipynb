{
 "cells": [
  {
   "cell_type": "code",
   "execution_count": 1,
   "metadata": {},
   "outputs": [],
   "source": [
    "# import locale\n",
    "# import os\n",
    "\n",
    "# # Установка локали\n",
    "# os.environ['LC_ALL'] = 'en_US.UTF-8'\n",
    "# os.environ['LANG'] = 'en_US.UTF-8'\n",
    "# locale.setlocale(locale.LC_ALL, 'en_US.UTF-8')"
   ]
  },
  {
   "cell_type": "code",
   "execution_count": 2,
   "metadata": {},
   "outputs": [],
   "source": [
    "import numpy as np\n",
    "import pandas as pd\n",
    "import matplotlib.pyplot as plt\n",
    "import seaborn as sns\n",
    "from sklearn.model_selection import train_test_split\n",
    "from glob import glob\n",
    "import cv2\n",
    "from PIL import Image\n",
    "from ultralytics import YOLO\n",
    "import os"
   ]
  },
  {
   "cell_type": "code",
   "execution_count": 3,
   "metadata": {},
   "outputs": [
    {
     "name": "stdout",
     "output_type": "stream",
     "text": [
      "Warning: Looks like you're using an outdated `kagglehub` version, please consider updating (latest version: 0.3.4)\n",
      "Data source import complete.\n"
     ]
    }
   ],
   "source": [
    "import kagglehub\n",
    "sshikamaru_car_object_detection_path = kagglehub.dataset_download('sshikamaru/car-object-detection')\n",
    "\n",
    "print('Data source import complete.')"
   ]
  },
  {
   "cell_type": "code",
   "execution_count": 10,
   "metadata": {},
   "outputs": [],
   "source": [
    "root_dir = \"/home/geraaaxx/projects/mlops_labs2_3/kaggle/working/data\"\n",
    "labels_dir = \"/home/geraaaxx/projects/mlops_labs2_3/kaggle/working/data/labels\"\n",
    "images_dir = \"/home/geraaaxx/projects/mlops_labs2_3/kaggle/working/data/images\""
   ]
  },
  {
   "cell_type": "code",
   "execution_count": 11,
   "metadata": {},
   "outputs": [],
   "source": [
    "train_data = f\"{sshikamaru_car_object_detection_path}/data/training_images\"\n",
    "csv_data = f\"{sshikamaru_car_object_detection_path}/data/train_solution_bounding_boxes (1).csv\"\n",
    "test_data = f\"{sshikamaru_car_object_detection_path}/data/testing_images\""
   ]
  },
  {
   "cell_type": "code",
   "execution_count": 12,
   "metadata": {},
   "outputs": [
    {
     "data": {
      "text/html": [
       "<div>\n",
       "<style scoped>\n",
       "    .dataframe tbody tr th:only-of-type {\n",
       "        vertical-align: middle;\n",
       "    }\n",
       "\n",
       "    .dataframe tbody tr th {\n",
       "        vertical-align: top;\n",
       "    }\n",
       "\n",
       "    .dataframe thead th {\n",
       "        text-align: right;\n",
       "    }\n",
       "</style>\n",
       "<table border=\"1\" class=\"dataframe\">\n",
       "  <thead>\n",
       "    <tr style=\"text-align: right;\">\n",
       "      <th></th>\n",
       "      <th>image</th>\n",
       "      <th>xmin</th>\n",
       "      <th>ymin</th>\n",
       "      <th>xmax</th>\n",
       "      <th>ymax</th>\n",
       "    </tr>\n",
       "  </thead>\n",
       "  <tbody>\n",
       "    <tr>\n",
       "      <th>0</th>\n",
       "      <td>vid_4_1000.jpg</td>\n",
       "      <td>281.259045</td>\n",
       "      <td>187.035071</td>\n",
       "      <td>327.727931</td>\n",
       "      <td>223.225547</td>\n",
       "    </tr>\n",
       "    <tr>\n",
       "      <th>1</th>\n",
       "      <td>vid_4_10000.jpg</td>\n",
       "      <td>15.163531</td>\n",
       "      <td>187.035071</td>\n",
       "      <td>120.329957</td>\n",
       "      <td>236.430180</td>\n",
       "    </tr>\n",
       "    <tr>\n",
       "      <th>2</th>\n",
       "      <td>vid_4_10040.jpg</td>\n",
       "      <td>239.192475</td>\n",
       "      <td>176.764801</td>\n",
       "      <td>361.968162</td>\n",
       "      <td>236.430180</td>\n",
       "    </tr>\n",
       "    <tr>\n",
       "      <th>3</th>\n",
       "      <td>vid_4_10020.jpg</td>\n",
       "      <td>496.483358</td>\n",
       "      <td>172.363256</td>\n",
       "      <td>630.020260</td>\n",
       "      <td>231.539575</td>\n",
       "    </tr>\n",
       "    <tr>\n",
       "      <th>4</th>\n",
       "      <td>vid_4_10060.jpg</td>\n",
       "      <td>16.630970</td>\n",
       "      <td>186.546010</td>\n",
       "      <td>132.558611</td>\n",
       "      <td>238.386422</td>\n",
       "    </tr>\n",
       "  </tbody>\n",
       "</table>\n",
       "</div>"
      ],
      "text/plain": [
       "             image        xmin        ymin        xmax        ymax\n",
       "0   vid_4_1000.jpg  281.259045  187.035071  327.727931  223.225547\n",
       "1  vid_4_10000.jpg   15.163531  187.035071  120.329957  236.430180\n",
       "2  vid_4_10040.jpg  239.192475  176.764801  361.968162  236.430180\n",
       "3  vid_4_10020.jpg  496.483358  172.363256  630.020260  231.539575\n",
       "4  vid_4_10060.jpg   16.630970  186.546010  132.558611  238.386422"
      ]
     },
     "execution_count": 12,
     "metadata": {},
     "output_type": "execute_result"
    }
   ],
   "source": [
    "df = pd.read_csv(csv_data)\n",
    "df.head()"
   ]
  },
  {
   "cell_type": "code",
   "execution_count": 13,
   "metadata": {},
   "outputs": [],
   "source": [
    "def create_yolo_annotation(row, img_width, img_height):\n",
    "    x_center = ((row['xmin'] + row['xmax']) / 2) / img_width\n",
    "    y_center = ((row['ymin'] + row['ymax']) / 2) / img_height\n",
    "    width = (row['xmax'] - row['xmin']) / img_width\n",
    "    height = (row['ymax'] - row['ymin']) / img_height\n",
    "    return f\"0 {x_center} {y_center} {width} {height}\""
   ]
  },
  {
   "cell_type": "code",
   "execution_count": 14,
   "metadata": {},
   "outputs": [],
   "source": [
    "for img_name in df['image'].unique():\n",
    "    img_df = df[df['image'] == img_name]\n",
    "    img_path = os.path.join(train_data,img_name)\n",
    "    img = cv2.imread(img_path)\n",
    "    if img is not None:\n",
    "        img_height, img_width = img.shape[:2]\n",
    "\n",
    "        if np.random.rand() < 0.8:\n",
    "            subset = \"train\"\n",
    "        else:\n",
    "            subset = \"val\"\n",
    "\n",
    "        dst_img_path = os.path.join(images_dir, subset, img_name)\n",
    "        cv2.imwrite(dst_img_path, img)\n",
    "\n",
    "        annotation_path = os.path.join(labels_dir, subset, f\"{img_name.split('.')[0]}.txt\")\n",
    "        with open(annotation_path, 'w') as f:\n",
    "            for _, row in img_df.iterrows():\n",
    "                yolo_annotation = create_yolo_annotation(row, img_width, img_height)\n",
    "                f.write(yolo_annotation + '\\n')"
   ]
  },
  {
   "cell_type": "code",
   "execution_count": 15,
   "metadata": {},
   "outputs": [
    {
     "name": "stdout",
     "output_type": "stream",
     "text": [
      "YAML configuration file created.\n"
     ]
    }
   ],
   "source": [
    "yaml_content = f\"\"\"\n",
    "path: {root_dir}\n",
    "train: images/train\n",
    "val: images/val\n",
    "\n",
    "nc: 1\n",
    "names: ['car']\n",
    "augmentations:\n",
    "  mosaic: 1.0           # Mosaic probability\n",
    "  mixup: 0.2            # Mixup probability\n",
    "  flipud: 0.0           # Vertical flip probability\n",
    "  fliplr: 0.5           # Horizontal flip probability\n",
    "  scale: 0.5            # Scale range\n",
    "  shear: 0.0            # Shear angle\n",
    "  perspective: 0.0      # Perspective transformation\n",
    "  hsv_h: 0.015          # Hue augmentation\n",
    "  hsv_s: 0.7            # Saturation augmentation\n",
    "  hsv_v: 0.4            # Brightness augmentation\n",
    "\"\"\"\n",
    "with open('car_detection.yaml', 'w') as f:\n",
    "    f.write(yaml_content)\n",
    "print(\"YAML configuration file created.\")"
   ]
  },
  {
   "cell_type": "code",
   "execution_count": null,
   "metadata": {},
   "outputs": [],
   "source": []
  }
 ],
 "metadata": {
  "kernelspec": {
   "display_name": "Python 3",
   "language": "python",
   "name": "python3"
  },
  "language_info": {
   "codemirror_mode": {
    "name": "ipython",
    "version": 3
   },
   "file_extension": ".py",
   "mimetype": "text/x-python",
   "name": "python",
   "nbconvert_exporter": "python",
   "pygments_lexer": "ipython3",
   "version": "3.12.7"
  },
  "orig_nbformat": 4
 },
 "nbformat": 4,
 "nbformat_minor": 2
}
